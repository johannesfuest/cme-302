{
 "cells": [
  {
   "cell_type": "code",
   "execution_count": 134,
   "metadata": {},
   "outputs": [
    {
     "name": "stdout",
     "output_type": "stream",
     "text": [
      "Julia version 1.11.1\n"
     ]
    },
    {
     "data": {
      "text/plain": [
       "MersenneTwister(2021)"
      ]
     },
     "metadata": {},
     "output_type": "display_data"
    }
   ],
   "source": [
    "# Julia version\n",
    "println(\"Julia version \",VERSION)\n",
    "\n",
    "using Random\n",
    "using Printf\n",
    "using LinearAlgebra\n",
    "\n",
    "# Initialize the random number generator\n",
    "rng = MersenneTwister(2021)"
   ]
  },
  {
   "cell_type": "markdown",
   "metadata": {},
   "source": [
    "# Running the reference slow implementation"
   ]
  },
  {
   "cell_type": "markdown",
   "metadata": {},
   "source": [
    "### Loading the Julia getrfRookSlow! function that is provided"
   ]
  },
  {
   "cell_type": "code",
   "execution_count": 135,
   "metadata": {},
   "outputs": [
    {
     "data": {
      "text/plain": [
       "getrfRookSlow! (generic function with 1 method)"
      ]
     },
     "metadata": {},
     "output_type": "display_data"
    }
   ],
   "source": [
    "# The slow O(rn^2) version of rook pivoting is implemented in this file for your reference\n",
    "include(\"rook_pivoting_slow.jl\")"
   ]
  },
  {
   "cell_type": "markdown",
   "metadata": {},
   "source": [
    "### Initialization of A"
   ]
  },
  {
   "cell_type": "code",
   "execution_count": 136,
   "metadata": {},
   "outputs": [],
   "source": [
    "n = 64 # Size of matrix\n",
    "r = 32 # Rank\n",
    "\n",
    "A = rand(rng,n,n) # Random matrix\n",
    "# You can initialize A with a different random number generator if you use another language\n",
    "\n",
    "F = lu(A)    # LU factorization\n",
    "L = F.L      # Lower triangular part\n",
    "U = F.U      # Upper triangular part\n",
    "L = L[:,1:r] # Keep the first r columns\n",
    "U = U[1:r,:] # Keep the first r rows\n",
    "\n",
    "# You can replace this by some equivalent Matlab/Python code\n",
    "\n",
    "A = L*U      # This is a rank r matrix\n",
    "A0 = copy(A) # Save a copy for testing at the end\n",
    ";"
   ]
  },
  {
   "cell_type": "markdown",
   "metadata": {},
   "source": [
    "### Factorization using getrfRookSlow!"
   ]
  },
  {
   "cell_type": "code",
   "execution_count": 137,
   "metadata": {},
   "outputs": [
    {
     "data": {
      "text/plain": [
       "([40, 37, 56, 38, 43, 49, 33, 46, 3, 15  …  7, 26, 57, 58, 59, 60, 61, 14, 63, 64], [33, 64, 42, 54, 48, 38, 13, 44, 63, 27  …  55, 56, 57, 58, 59, 60, 61, 62, 22, 2], 32)"
      ]
     },
     "metadata": {},
     "output_type": "display_data"
    }
   ],
   "source": [
    "# Calling your factorization algorithm\n",
    "P_row, P_col, r = getrfRookSlow!(A)\n",
    "# By convention, ! at the end of a function name means that the function modifies its arguments."
   ]
  },
  {
   "cell_type": "markdown",
   "metadata": {},
   "source": [
    "### Test"
   ]
  },
  {
   "cell_type": "code",
   "execution_count": 138,
   "metadata": {
    "scrolled": true
   },
   "outputs": [
    {
     "data": {
      "text/plain": [
       "4.4395028864203576e-14"
      ]
     },
     "metadata": {},
     "output_type": "display_data"
    }
   ],
   "source": [
    "L0 = UniformScaling(1.0) + tril(A,-1) # Extract L matrix from A\n",
    "U0 = triu(A) # Extract U matrix from A\n",
    "\n",
    "L = zeros(n,r)\n",
    "for i=1:n\n",
    "    L[P_row[i],:] = L0[i,1:r] # Undo the row permutations\n",
    "end\n",
    "\n",
    "U = zeros(r,n)\n",
    "for j=1:n\n",
    "    U[:,P_col[j]] = U0[1:r,j] # Undo the column permutations\n",
    "end\n",
    "\n",
    "err = norm(L*U - A0) # Comparing against the original copy of A"
   ]
  },
  {
   "cell_type": "markdown",
   "metadata": {},
   "source": [
    "### The reference implementation passes the test"
   ]
  },
  {
   "cell_type": "code",
   "execution_count": 139,
   "metadata": {},
   "outputs": [
    {
     "name": "stdout",
     "output_type": "stream",
     "text": [
      "The error is 4.4395e-14"
     ]
    },
    {
     "data": {
      "text/plain": [
       "\"PASS\""
      ]
     },
     "metadata": {},
     "output_type": "display_data"
    }
   ],
   "source": [
    "@printf \"The error is %g\" err # Test the accuracy\n",
    "err < 1e-13 ? \"PASS\" : \"FAIL\""
   ]
  },
  {
   "cell_type": "markdown",
   "metadata": {},
   "source": [
    "# Running your implementation"
   ]
  },
  {
   "cell_type": "code",
   "execution_count": 140,
   "metadata": {},
   "outputs": [
    {
     "data": {
      "text/plain": [
       "getrfRook! (generic function with 1 method)"
      ]
     },
     "metadata": {},
     "output_type": "display_data"
    }
   ],
   "source": [
    "# Your answer is implemented in this file as getrfRook!\n",
    "include(\"rook_pivoting.jl\")"
   ]
  },
  {
   "cell_type": "markdown",
   "metadata": {},
   "source": [
    "### Initialization of A"
   ]
  },
  {
   "cell_type": "code",
   "execution_count": 141,
   "metadata": {},
   "outputs": [],
   "source": [
    "rng = MersenneTwister(2021)\n",
    "n = 64 # Size of matrix\n",
    "r = 32 # Rank\n",
    "\n",
    "A = rand(rng,n,n) # Random matrix\n",
    "# You can initialize A with a different random number generator if you use another language\n",
    "\n",
    "F = lu(A)    # LU factorization\n",
    "L = F.L      # Lower triangular part\n",
    "U = F.U      # Upper triangular part\n",
    "L = L[:,1:r] # Keep the first r columns\n",
    "U = U[1:r,:] # Keep the first r rows\n",
    "\n",
    "# You can replace this by some equivalent Matlab/Python code\n",
    "\n",
    "A = L*U      # This is a rank r matrix\n",
    "A0 = copy(A) # Save a copy for testing at the end\n",
    ";"
   ]
  },
  {
   "cell_type": "markdown",
   "metadata": {},
   "source": [
    "### Factorization using getrfRook!"
   ]
  },
  {
   "cell_type": "code",
   "execution_count": 142,
   "metadata": {},
   "outputs": [
    {
     "data": {
      "text/plain": [
       "([40, 37, 56, 38, 43, 49, 33, 46, 3, 15  …  55, 26, 57, 58, 59, 60, 61, 14, 63, 64], [33, 64, 42, 54, 48, 38, 13, 44, 63, 27  …  55, 56, 57, 58, 59, 60, 61, 62, 22, 1], 32)"
      ]
     },
     "metadata": {},
     "output_type": "display_data"
    }
   ],
   "source": [
    "# Calling your factorization algorithm\n",
    "P_row, P_col, r = getrfRook!(A)\n",
    "# By convention, ! at the end of a function name means that the function modifies its arguments.\n",
    "\n",
    "# Rook pivoting LU:\n",
    "# function getrfRook!\n",
    "# Input: matrix A\n",
    "# Output: row permutation (as an array), column permutation (as an array), rank of A\n",
    "# The L and U factors are stored in the lower and upper triangular parts of A"
   ]
  },
  {
   "cell_type": "markdown",
   "metadata": {},
   "source": [
    "### Test"
   ]
  },
  {
   "cell_type": "code",
   "execution_count": 143,
   "metadata": {},
   "outputs": [
    {
     "data": {
      "text/plain": [
       "3.9269770704317656e-14"
      ]
     },
     "metadata": {},
     "output_type": "display_data"
    }
   ],
   "source": [
    "L0 = UniformScaling(1.0) + tril(A,-1) # Extract L matrix from A\n",
    "U0 = triu(A) # Extract U matrix from A\n",
    "\n",
    "L = zeros(n,r)\n",
    "for i=1:n\n",
    "    L[P_row[i],:] = L0[i,1:r] # Undo the row permutations\n",
    "end\n",
    "\n",
    "U = zeros(r,n)\n",
    "for j=1:n\n",
    "    U[:,P_col[j]] = U0[1:r,j] # Undo the column permutations\n",
    "end\n",
    "\n",
    "err = norm(L*U - A0) # Comparing against the original copy of A"
   ]
  },
  {
   "cell_type": "markdown",
   "metadata": {},
   "source": [
    "### If your code works correctly, the next cell should print PASS at the end."
   ]
  },
  {
   "cell_type": "code",
   "execution_count": 144,
   "metadata": {
    "scrolled": true
   },
   "outputs": [
    {
     "name": "stdout",
     "output_type": "stream",
     "text": [
      "The error is 3.92698e-14"
     ]
    },
    {
     "data": {
      "text/plain": [
       "\"PASS\""
      ]
     },
     "metadata": {},
     "output_type": "display_data"
    }
   ],
   "source": [
    "@printf \"The error is %g\" err # Test the accuracy\n",
    "err < 1e-13 ? \"PASS\" : \"FAIL\""
   ]
  }
 ],
 "metadata": {
  "@webio": {
   "lastCommId": null,
   "lastKernelId": null
  },
  "kernelspec": {
   "display_name": "Julia 1.11.1",
   "language": "julia",
   "name": "julia-1.11"
  },
  "language_info": {
   "file_extension": ".jl",
   "mimetype": "application/julia",
   "name": "julia",
   "version": "1.11.1"
  }
 },
 "nbformat": 4,
 "nbformat_minor": 4
}
