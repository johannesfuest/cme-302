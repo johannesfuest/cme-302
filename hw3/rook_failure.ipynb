{
 "cells": [
  {
   "cell_type": "code",
   "execution_count": 44,
   "metadata": {},
   "outputs": [],
   "source": [
    "using Random\n",
    "using Printf\n",
    "using DelimitedFiles\n",
    "using LinearAlgebra\n",
    "\n",
    "# Initialize the random number generator\n",
    "rng = MersenneTwister(2022)\n",
    "\n",
    "# Loading fullpivoting and rook pivoting function \n",
    "include(\"rook_pivoting_slow.jl\")\n",
    "include(\"full_pivoting.jl\");"
   ]
  },
  {
   "cell_type": "code",
   "execution_count": 45,
   "metadata": {},
   "outputs": [
    {
     "name": "stdout",
     "output_type": "stream",
     "text": [
      "Size of matrix A: 10\n"
     ]
    }
   ],
   "source": [
    "# Loading example matrix\n",
    "A = readdlm(\"matrix.txt\",'\\t', Float64)\n",
    "n = size(A)[1]\n",
    "println(\"Size of matrix A: \",n)"
   ]
  },
  {
   "cell_type": "code",
   "execution_count": 46,
   "metadata": {},
   "outputs": [
    {
     "name": "stdout",
     "output_type": "stream",
     "text": [
      "Size of rook pivot at 1: 0.7414062996399297\n",
      "Max value in remaining matrix at 1: (0.7414062996399297, CartesianIndex(1, 1))\n",
      "Size of rook pivot at 2: -1.1102230246251565e-16\n",
      "Max value in remaining matrix at 2: (0.3823316685755166, CartesianIndex(6, 5))\n",
      "Size of rook pivot at 3: 0.2986326740885219\n",
      "Max value in remaining matrix at 3: (0.3823316685755166, CartesianIndex(5, 4))\n",
      "Size of rook pivot at 4: 0.26660873980780786\n",
      "Max value in remaining matrix at 4: (0.5353059552293729, CartesianIndex(4, 3))\n",
      "Size of rook pivot at 5: 0.29732426303259074\n",
      "Max value in remaining matrix at 5: (0.528348510829716, CartesianIndex(3, 2))\n",
      "Size of rook pivot at 6: -0.3288822077960395\n",
      "Max value in remaining matrix at 6: (0.5450601634316945, CartesianIndex(2, 3))\n",
      "Size of rook pivot at 7: 0.34787652554917137\n",
      "Max value in remaining matrix at 7: (0.34787652554917137, CartesianIndex(1, 1))\n",
      "Size of rook pivot at 8: -1.3877787807814457e-16\n",
      "Max value in remaining matrix at 8: (1.3877787807814457e-16, CartesianIndex(1, 1))\n",
      "Size of rook pivot at 9: 4.163336342344337e-17\n",
      "Max value in remaining matrix at 9: (4.163336342344337e-17, CartesianIndex(1, 1))\n",
      "Error in LU with rook pivoting: 1.819941133755308e-16\n"
     ]
    }
   ],
   "source": [
    "### rook pivoting of matrix A\n",
    "A1 = copy(A)\n",
    "P_row, P_col, r = getrfRookSlow!(A1)\n",
    "\n",
    "L0 = UniformScaling(1.0) + tril(A1,-1) # Extract L matrix from A\n",
    "U0 = triu(A1) # Extract U matrix from A\n",
    "\n",
    "L = zeros(n,r)\n",
    "for i=1:n\n",
    "    L[P_row[i],:] = L0[i,1:r] # Undo the row permutations\n",
    "end\n",
    "\n",
    "U = zeros(r,n)\n",
    "for j=1:n\n",
    "    U[:,P_col[j]] = U0[1:r,j] # Undo the column permutations\n",
    "end\n",
    "\n",
    "err = norm(L*U - A) # Comparing against the original copy of A\n",
    "println(\"Error in LU with rook pivoting: \", err)"
   ]
  },
  {
   "cell_type": "code",
   "execution_count": 47,
   "metadata": {},
   "outputs": [],
   "source": []
  },
  {
   "cell_type": "code",
   "execution_count": 48,
   "metadata": {},
   "outputs": [
    {
     "name": "stdout",
     "output_type": "stream",
     "text": [
      "Error in LU with full pivoting: 2.3044742043188286e-16\n"
     ]
    }
   ],
   "source": [
    "### full pivoting of matrix A\n",
    "A2 = copy(A)\n",
    "\n",
    "P_row, P_col = FullPivotLU!(A2)\n",
    "L0 = UniformScaling(1.0) + tril(A2,-1) # Extract L matrix from A\n",
    "U0 = triu(A2) # Extract U matrix from A\n",
    "\n",
    "L = zeros(n,n)\n",
    "for i=1:n\n",
    "    L[P_row[i],:] = L0[i,:] # Undo the row permutations\n",
    "end\n",
    "\n",
    "U = zeros(n,n)\n",
    "for j=1:n\n",
    "    U[:,P_col[j]] = U0[:,j] # Undo the column permutations\n",
    "end\n",
    "\n",
    "err = norm(L*U - A) # Comparing against the original copy of A\n",
    "println(\"Error in LU with full pivoting: \", err)"
   ]
  },
  {
   "cell_type": "code",
   "execution_count": 49,
   "metadata": {},
   "outputs": [],
   "source": []
  }
 ],
 "metadata": {
  "@webio": {
   "lastCommId": null,
   "lastKernelId": null
  },
  "kernelspec": {
   "display_name": "Julia 1.11.1",
   "language": "julia",
   "name": "julia-1.11"
  },
  "language_info": {
   "file_extension": ".jl",
   "mimetype": "application/julia",
   "name": "julia",
   "version": "1.11.1"
  }
 },
 "nbformat": 4,
 "nbformat_minor": 4
}
